{
 "cells": [
  {
   "cell_type": "markdown",
   "metadata": {},
   "source": [
    "***LENDO OS DADOS***"
   ]
  },
  {
   "cell_type": "code",
   "execution_count": 1,
   "metadata": {},
   "outputs": [],
   "source": [
    "import os\n",
    "from pyspark.sql import SparkSession"
   ]
  },
  {
   "cell_type": "code",
   "execution_count": 2,
   "metadata": {},
   "outputs": [],
   "source": [
    "os.environ[\"SPARK_HOME\"] = \"/opt/spark/spark-3.5.5-bin-hadoop3\""
   ]
  },
  {
   "cell_type": "code",
   "execution_count": 3,
   "metadata": {},
   "outputs": [],
   "source": [
    "import findspark"
   ]
  },
  {
   "cell_type": "code",
   "execution_count": 4,
   "metadata": {},
   "outputs": [],
   "source": [
    "findspark.init()"
   ]
  },
  {
   "cell_type": "code",
   "execution_count": 5,
   "metadata": {},
   "outputs": [
    {
     "name": "stderr",
     "output_type": "stream",
     "text": [
      "25/04/13 13:04:26 WARN Utils: Your hostname, dg-IdeaPad-3-15ALC6 resolves to a loopback address: 127.0.1.1; using 192.168.1.9 instead (on interface wlp1s0)\n",
      "25/04/13 13:04:26 WARN Utils: Set SPARK_LOCAL_IP if you need to bind to another address\n",
      "Setting default log level to \"WARN\".\n",
      "To adjust logging level use sc.setLogLevel(newLevel). For SparkR, use setLogLevel(newLevel).\n",
      "25/04/13 13:04:28 WARN NativeCodeLoader: Unable to load native-hadoop library for your platform... using builtin-java classes where applicable\n",
      "25/04/13 13:04:31 WARN Utils: Service 'SparkUI' could not bind on port 4040. Attempting port 4041.\n"
     ]
    }
   ],
   "source": [
    "spark = SparkSession.builder.master('local[*]').getOrCreate()"
   ]
  },
  {
   "cell_type": "code",
   "execution_count": 6,
   "metadata": {},
   "outputs": [
    {
     "data": {
      "text/html": [
       "\n",
       "            <div>\n",
       "                <p><b>SparkSession - in-memory</b></p>\n",
       "                \n",
       "        <div>\n",
       "            <p><b>SparkContext</b></p>\n",
       "\n",
       "            <p><a href=\"http://192.168.1.9:4041\">Spark UI</a></p>\n",
       "\n",
       "            <dl>\n",
       "              <dt>Version</dt>\n",
       "                <dd><code>v3.5.5</code></dd>\n",
       "              <dt>Master</dt>\n",
       "                <dd><code>local[*]</code></dd>\n",
       "              <dt>AppName</dt>\n",
       "                <dd><code>pyspark-shell</code></dd>\n",
       "            </dl>\n",
       "        </div>\n",
       "        \n",
       "            </div>\n",
       "        "
      ],
      "text/plain": [
       "<pyspark.sql.session.SparkSession at 0x74b7fec7ef90>"
      ]
     },
     "execution_count": 6,
     "metadata": {},
     "output_type": "execute_result"
    }
   ],
   "source": [
    "spark"
   ]
  },
  {
   "cell_type": "markdown",
   "metadata": {},
   "source": [
    "***LENDO OS DADOS***"
   ]
  },
  {
   "cell_type": "code",
   "execution_count": 11,
   "metadata": {},
   "outputs": [],
   "source": [
    "path_csv = \"../data_raw/2004-2021.tsv\""
   ]
  },
  {
   "cell_type": "code",
   "execution_count": 83,
   "metadata": {},
   "outputs": [],
   "source": [
    "df_price_gas = spark.read.csv(path_csv,header=True,sep=\"\\t\",inferSchema=True)"
   ]
  },
  {
   "cell_type": "code",
   "execution_count": 84,
   "metadata": {},
   "outputs": [
    {
     "name": "stdout",
     "output_type": "stream",
     "text": [
      "+------------+----------+------------+------------------+----------------+----------------------------+-----------------+-------------------+---------------------+--------------------+--------------------+--------------------+------------------------+------------------------+--------------------------+-------------------------+-------------------------+-----------------------------+\n",
      "|DATA INICIAL|DATA FINAL|      REGIÃO|            ESTADO|         PRODUTO|NÚMERO DE POSTOS PESQUISADOS|UNIDADE DE MEDIDA|PREÇO MÉDIO REVENDA|DESVIO PADRÃO REVENDA|PREÇO MÍNIMO REVENDA|PREÇO MÁXIMO REVENDA|MARGEM MÉDIA REVENDA|COEF DE VARIAÇÃO REVENDA|PREÇO MÉDIO DISTRIBUIÇÃO|DESVIO PADRÃO DISTRIBUIÇÃO|PREÇO MÍNIMO DISTRIBUIÇÃO|PREÇO MÁXIMO DISTRIBUIÇÃO|COEF DE VARIAÇÃO DISTRIBUIÇÃO|\n",
      "+------------+----------+------------+------------------+----------------+----------------------------+-----------------+-------------------+---------------------+--------------------+--------------------+--------------------+------------------------+------------------------+--------------------------+-------------------------+-------------------------+-----------------------------+\n",
      "|  2004-05-09|2004-05-15|CENTRO OESTE|  DISTRITO FEDERAL|ETANOL HIDRATADO|                         127|             R$/l|              1.288|                0.016|                1.19|                1.35|               0.463|                   0.012|                   0.825|                      0.11|                   0.4201|                   0.9666|                        0.133|\n",
      "|  2004-05-09|2004-05-15|CENTRO OESTE|             GOIAS|ETANOL HIDRATADO|                         387|             R$/l|              1.162|                0.114|                0.89|               1.449|               0.399|                   0.098|                   0.763|                     0.088|                   0.5013|                     1.05|                        0.115|\n",
      "|  2004-05-09|2004-05-15|CENTRO OESTE|       MATO GROSSO|ETANOL HIDRATADO|                         192|             R$/l|              1.389|   0.0969999999999999|                1.18|                1.76|               0.419|                    0.07|                    0.97|                     0.095|                   0.5614|                    1.161|                        0.098|\n",
      "|  2004-05-09|2004-05-15|CENTRO OESTE|MATO GROSSO DO SUL|ETANOL HIDRATADO|                         162|             R$/l|              1.262|                 0.07|                1.09|               1.509|               0.432|                   0.055|                    0.83|                     0.119|                   0.5991|                  1.22242|                        0.143|\n",
      "|  2004-05-09|2004-05-15|    NORDESTE|           ALAGOAS|ETANOL HIDRATADO|                         103|             R$/l|              1.181|                0.078|                1.05|                 1.4|                0.24|                   0.066|                   0.941|                     0.077|                   0.7441|                   1.0317|                        0.082|\n",
      "+------------+----------+------------+------------------+----------------+----------------------------+-----------------+-------------------+---------------------+--------------------+--------------------+--------------------+------------------------+------------------------+--------------------------+-------------------------+-------------------------+-----------------------------+\n",
      "\n"
     ]
    }
   ],
   "source": [
    "df_price_gas.limit(5).show()"
   ]
  },
  {
   "cell_type": "code",
   "execution_count": 85,
   "metadata": {},
   "outputs": [
    {
     "name": "stdout",
     "output_type": "stream",
     "text": [
      "root\n",
      " |-- DATA INICIAL: date (nullable = true)\n",
      " |-- DATA FINAL: date (nullable = true)\n",
      " |-- REGIÃO: string (nullable = true)\n",
      " |-- ESTADO: string (nullable = true)\n",
      " |-- PRODUTO: string (nullable = true)\n",
      " |-- NÚMERO DE POSTOS PESQUISADOS: integer (nullable = true)\n",
      " |-- UNIDADE DE MEDIDA: string (nullable = true)\n",
      " |-- PREÇO MÉDIO REVENDA: double (nullable = true)\n",
      " |-- DESVIO PADRÃO REVENDA: double (nullable = true)\n",
      " |-- PREÇO MÍNIMO REVENDA: double (nullable = true)\n",
      " |-- PREÇO MÁXIMO REVENDA: double (nullable = true)\n",
      " |-- MARGEM MÉDIA REVENDA: string (nullable = true)\n",
      " |-- COEF DE VARIAÇÃO REVENDA: double (nullable = true)\n",
      " |-- PREÇO MÉDIO DISTRIBUIÇÃO: string (nullable = true)\n",
      " |-- DESVIO PADRÃO DISTRIBUIÇÃO: string (nullable = true)\n",
      " |-- PREÇO MÍNIMO DISTRIBUIÇÃO: string (nullable = true)\n",
      " |-- PREÇO MÁXIMO DISTRIBUIÇÃO: string (nullable = true)\n",
      " |-- COEF DE VARIAÇÃO DISTRIBUIÇÃO: string (nullable = true)\n",
      "\n"
     ]
    }
   ],
   "source": [
    "df_price_gas.printSchema()"
   ]
  },
  {
   "cell_type": "code",
   "execution_count": 86,
   "metadata": {},
   "outputs": [],
   "source": [
    "old_columns = df_price_gas.columns"
   ]
  },
  {
   "cell_type": "markdown",
   "metadata": {},
   "source": [
    "***RENOMEANDO COLUNAS***"
   ]
  },
  {
   "cell_type": "code",
   "execution_count": 87,
   "metadata": {},
   "outputs": [],
   "source": [
    "new_col_names = [\"Data_inicial\",\"Data_final\",\"Regiao\",\"Estado\",\"Produto\",\"Numero_postos_pesquisado\",\"unidade_de_medida\",\"preco_media_revenda\",\"Desvio_padrao_revenda\",\"Preco_minimo_revenda\",\"Preco_maximo_revenda\",\"Margem_media_revenda\",\"Coef_variacao_revenda\",\"Preco_medio_distribuicao\",\"Desvio_padrao_distribuicao\",\"Preco_minimo_distribuicao\",\"Preco_maximo_distribuicao\",\"Coef_variacao_distribuicao\"]"
   ]
  },
  {
   "cell_type": "code",
   "execution_count": 88,
   "metadata": {},
   "outputs": [],
   "source": [
    "for old_columns,new_col_names in zip(old_columns,new_col_names):\n",
    "    df_price_gas = df_price_gas.withColumnRenamed(old_columns,new_col_names)"
   ]
  },
  {
   "cell_type": "code",
   "execution_count": 89,
   "metadata": {},
   "outputs": [
    {
     "name": "stdout",
     "output_type": "stream",
     "text": [
      "+------------+----------+------------+------------------+----------------+------------------------+-----------------+-------------------+---------------------+--------------------+--------------------+--------------------+---------------------+------------------------+--------------------------+-------------------------+-------------------------+--------------------------+\n",
      "|Data_inicial|Data_final|      Regiao|            Estado|         Produto|Numero_postos_pesquisado|unidade_de_medida|preco_media_revenda|Desvio_padrao_revenda|Preco_minimo_revenda|Preco_maximo_revenda|Margem_media_revenda|Coef_variacao_revenda|Preco_medio_distribuicao|Desvio_padrao_distribuicao|Preco_minimo_distribuicao|Preco_maximo_distribuicao|Coef_variacao_distribuicao|\n",
      "+------------+----------+------------+------------------+----------------+------------------------+-----------------+-------------------+---------------------+--------------------+--------------------+--------------------+---------------------+------------------------+--------------------------+-------------------------+-------------------------+--------------------------+\n",
      "|  2004-05-09|2004-05-15|CENTRO OESTE|  DISTRITO FEDERAL|ETANOL HIDRATADO|                     127|             R$/l|              1.288|                0.016|                1.19|                1.35|               0.463|                0.012|                   0.825|                      0.11|                   0.4201|                   0.9666|                     0.133|\n",
      "|  2004-05-09|2004-05-15|CENTRO OESTE|             GOIAS|ETANOL HIDRATADO|                     387|             R$/l|              1.162|                0.114|                0.89|               1.449|               0.399|                0.098|                   0.763|                     0.088|                   0.5013|                     1.05|                     0.115|\n",
      "|  2004-05-09|2004-05-15|CENTRO OESTE|       MATO GROSSO|ETANOL HIDRATADO|                     192|             R$/l|              1.389|   0.0969999999999999|                1.18|                1.76|               0.419|                 0.07|                    0.97|                     0.095|                   0.5614|                    1.161|                     0.098|\n",
      "|  2004-05-09|2004-05-15|CENTRO OESTE|MATO GROSSO DO SUL|ETANOL HIDRATADO|                     162|             R$/l|              1.262|                 0.07|                1.09|               1.509|               0.432|                0.055|                    0.83|                     0.119|                   0.5991|                  1.22242|                     0.143|\n",
      "|  2004-05-09|2004-05-15|    NORDESTE|           ALAGOAS|ETANOL HIDRATADO|                     103|             R$/l|              1.181|                0.078|                1.05|                 1.4|                0.24|                0.066|                   0.941|                     0.077|                   0.7441|                   1.0317|                     0.082|\n",
      "+------------+----------+------------+------------------+----------------+------------------------+-----------------+-------------------+---------------------+--------------------+--------------------+--------------------+---------------------+------------------------+--------------------------+-------------------------+-------------------------+--------------------------+\n",
      "\n"
     ]
    }
   ],
   "source": [
    "df_price_gas.limit(5).show()"
   ]
  },
  {
   "cell_type": "code",
   "execution_count": 90,
   "metadata": {},
   "outputs": [
    {
     "data": {
      "text/plain": [
       "['Data_inicial',\n",
       " 'Data_final',\n",
       " 'Regiao',\n",
       " 'Estado',\n",
       " 'Produto',\n",
       " 'Numero_postos_pesquisado',\n",
       " 'unidade_de_medida',\n",
       " 'preco_media_revenda',\n",
       " 'Desvio_padrao_revenda',\n",
       " 'Preco_minimo_revenda',\n",
       " 'Preco_maximo_revenda',\n",
       " 'Margem_media_revenda',\n",
       " 'Coef_variacao_revenda',\n",
       " 'Preco_medio_distribuicao',\n",
       " 'Desvio_padrao_distribuicao',\n",
       " 'Preco_minimo_distribuicao',\n",
       " 'Preco_maximo_distribuicao',\n",
       " 'Coef_variacao_distribuicao']"
      ]
     },
     "execution_count": 90,
     "metadata": {},
     "output_type": "execute_result"
    }
   ],
   "source": [
    "df_price_gas.columns"
   ]
  },
  {
   "cell_type": "code",
   "execution_count": 105,
   "metadata": {},
   "outputs": [],
   "source": [
    "df_price_gas.createOrReplaceTempView(\"view_price_gas\")"
   ]
  },
  {
   "cell_type": "code",
   "execution_count": 94,
   "metadata": {},
   "outputs": [],
   "source": [
    "df_price_gas = spark.sql(\"\"\"\n",
    "        SELECT  Data_inicial,\n",
    "                Data_final,\n",
    "                Regiao,Produto,\n",
    "                Numero_postos_pesquisado,\n",
    "                round(preco_media_revenda,2)    as preco_media_revenda,\n",
    "                round(Preco_minimo_revenda,2)   as Preco_minimo_revenda,\n",
    "                round(Preco_maximo_revenda,2)   as Preco_maximo_revenda\n",
    "        FROM    view_price_gas\n",
    "    \"\"\")"
   ]
  },
  {
   "cell_type": "code",
   "execution_count": 93,
   "metadata": {},
   "outputs": [
    {
     "name": "stdout",
     "output_type": "stream",
     "text": [
      "+------------+----------+------------+----------------+------------------------+-------------------+--------------------+--------------------+\n",
      "|Data_inicial|Data_final|      Regiao|         Produto|Numero_postos_pesquisado|preco_media_revenda|Preco_minimo_revenda|Preco_maximo_revenda|\n",
      "+------------+----------+------------+----------------+------------------------+-------------------+--------------------+--------------------+\n",
      "|  2004-05-09|2004-05-15|CENTRO OESTE|ETANOL HIDRATADO|                     127|               1.29|                1.19|                1.35|\n",
      "|  2004-05-09|2004-05-15|CENTRO OESTE|ETANOL HIDRATADO|                     387|               1.16|                0.89|                1.45|\n",
      "|  2004-05-09|2004-05-15|CENTRO OESTE|ETANOL HIDRATADO|                     192|               1.39|                1.18|                1.76|\n",
      "|  2004-05-09|2004-05-15|CENTRO OESTE|ETANOL HIDRATADO|                     162|               1.26|                1.09|                1.51|\n",
      "|  2004-05-09|2004-05-15|    NORDESTE|ETANOL HIDRATADO|                     103|               1.18|                1.05|                 1.4|\n",
      "+------------+----------+------------+----------------+------------------------+-------------------+--------------------+--------------------+\n",
      "\n"
     ]
    }
   ],
   "source": [
    "df_price_gas.limit(5).show()"
   ]
  },
  {
   "cell_type": "markdown",
   "metadata": {},
   "source": [
    "***CRIANDO COLUNA ANO***"
   ]
  },
  {
   "cell_type": "code",
   "execution_count": 104,
   "metadata": {},
   "outputs": [],
   "source": [
    "df_price_gas = spark.sql(\"\"\"\n",
    "        SELECT  Data_inicial,\n",
    "                Data_final,\n",
    "                Regiao,Produto,\n",
    "                Numero_postos_pesquisado,\n",
    "                round(preco_media_revenda,2)    as preco_media_revenda,\n",
    "                round(Preco_minimo_revenda,2)   as Preco_minimo_revenda,\n",
    "                round(Preco_maximo_revenda,2)   as Preco_maximo_revenda,\n",
    "                YEAR(Data_inicial) as Ano_inicial,\n",
    "                YEAR(Data_final) as Ano_final\n",
    "        FROM    view_price_gas\n",
    "    \"\"\")"
   ]
  },
  {
   "cell_type": "code",
   "execution_count": 106,
   "metadata": {},
   "outputs": [
    {
     "name": "stdout",
     "output_type": "stream",
     "text": [
      "+------------+----------+------------+----------------+------------------------+-------------------+--------------------+--------------------+-----------+---------+\n",
      "|Data_inicial|Data_final|      Regiao|         Produto|Numero_postos_pesquisado|preco_media_revenda|Preco_minimo_revenda|Preco_maximo_revenda|Ano_inicial|Ano_final|\n",
      "+------------+----------+------------+----------------+------------------------+-------------------+--------------------+--------------------+-----------+---------+\n",
      "|  2004-05-09|2004-05-15|CENTRO OESTE|ETANOL HIDRATADO|                     127|               1.29|                1.19|                1.35|       2004|     2004|\n",
      "|  2004-05-09|2004-05-15|CENTRO OESTE|ETANOL HIDRATADO|                     387|               1.16|                0.89|                1.45|       2004|     2004|\n",
      "|  2004-05-09|2004-05-15|CENTRO OESTE|ETANOL HIDRATADO|                     192|               1.39|                1.18|                1.76|       2004|     2004|\n",
      "|  2004-05-09|2004-05-15|CENTRO OESTE|ETANOL HIDRATADO|                     162|               1.26|                1.09|                1.51|       2004|     2004|\n",
      "|  2004-05-09|2004-05-15|    NORDESTE|ETANOL HIDRATADO|                     103|               1.18|                1.05|                 1.4|       2004|     2004|\n",
      "+------------+----------+------------+----------------+------------------------+-------------------+--------------------+--------------------+-----------+---------+\n",
      "only showing top 5 rows\n",
      "\n"
     ]
    }
   ],
   "source": [
    "spark.sql(\"SELECT * FROM view_price_gas\").show(5)"
   ]
  },
  {
   "cell_type": "code",
   "execution_count": 109,
   "metadata": {},
   "outputs": [
    {
     "name": "stdout",
     "output_type": "stream",
     "text": [
      "+-----------------+----------------+\n",
      "|maximo_ano_incial|maximo_ano_final|\n",
      "+-----------------+----------------+\n",
      "|             2021|            2021|\n",
      "+-----------------+----------------+\n",
      "\n"
     ]
    }
   ],
   "source": [
    "spark.sql(\"SELECT Max(Ano_inicial) as maximo_ano_incial ,Max(Ano_final) as maximo_ano_final FROM view_price_gas\").show()"
   ]
  },
  {
   "cell_type": "code",
   "execution_count": 96,
   "metadata": {},
   "outputs": [
    {
     "name": "stderr",
     "output_type": "stream",
     "text": [
      "[Stage 43:==============>                                           (1 + 3) / 4]\r"
     ]
    },
    {
     "name": "stdout",
     "output_type": "stream",
     "text": [
      "+------------+\n",
      "|      Regiao|\n",
      "+------------+\n",
      "|CENTRO OESTE|\n",
      "|       NORTE|\n",
      "|    NORDESTE|\n",
      "|         SUL|\n",
      "|     SUDESTE|\n",
      "+------------+\n",
      "\n"
     ]
    },
    {
     "name": "stderr",
     "output_type": "stream",
     "text": [
      "                                                                                \r"
     ]
    }
   ],
   "source": [
    "spark.sql(\"SELECT DISTINCT Regiao FROM view_price_gas\").show()"
   ]
  },
  {
   "cell_type": "markdown",
   "metadata": {},
   "source": [
    "***SEPARANDO POR REGIAO***"
   ]
  },
  {
   "cell_type": "code",
   "execution_count": 115,
   "metadata": {},
   "outputs": [
    {
     "name": "stdout",
     "output_type": "stream",
     "text": [
      "+------------+----------+------------+----------------+------------------------+-------------------+--------------------+--------------------+-----------+---------+\n",
      "|Data_inicial|Data_final|      Regiao|         Produto|Numero_postos_pesquisado|preco_media_revenda|Preco_minimo_revenda|Preco_maximo_revenda|Ano_inicial|Ano_final|\n",
      "+------------+----------+------------+----------------+------------------------+-------------------+--------------------+--------------------+-----------+---------+\n",
      "|  2004-05-09|2004-05-15|CENTRO OESTE|ETANOL HIDRATADO|                     127|               1.29|                1.19|                1.35|       2004|     2004|\n",
      "|  2004-05-09|2004-05-15|CENTRO OESTE|ETANOL HIDRATADO|                     387|               1.16|                0.89|                1.45|       2004|     2004|\n",
      "|  2004-05-09|2004-05-15|CENTRO OESTE|ETANOL HIDRATADO|                     192|               1.39|                1.18|                1.76|       2004|     2004|\n",
      "|  2004-05-09|2004-05-15|CENTRO OESTE|ETANOL HIDRATADO|                     162|               1.26|                1.09|                1.51|       2004|     2004|\n",
      "|  2004-05-16|2004-05-22|CENTRO OESTE|ETANOL HIDRATADO|                     144|               1.27|                1.06|                 1.3|       2004|     2004|\n",
      "+------------+----------+------------+----------------+------------------------+-------------------+--------------------+--------------------+-----------+---------+\n",
      "only showing top 5 rows\n",
      "\n"
     ]
    }
   ],
   "source": [
    "spark.sql(\"SELECT * FROM view_price_gas WHERE Regiao = 'CENTRO OESTE'\").show(5)"
   ]
  },
  {
   "cell_type": "code",
   "execution_count": 118,
   "metadata": {},
   "outputs": [],
   "source": [
    "df_centro_oeste = spark.sql(\"SELECT * FROM view_price_gas WHERE Regiao = 'CENTRO OESTE'\")"
   ]
  },
  {
   "cell_type": "code",
   "execution_count": 119,
   "metadata": {},
   "outputs": [
    {
     "name": "stdout",
     "output_type": "stream",
     "text": [
      "+------------+----------+------+----------------+------------------------+-------------------+--------------------+--------------------+-----------+---------+\n",
      "|Data_inicial|Data_final|Regiao|         Produto|Numero_postos_pesquisado|preco_media_revenda|Preco_minimo_revenda|Preco_maximo_revenda|Ano_inicial|Ano_final|\n",
      "+------------+----------+------+----------------+------------------------+-------------------+--------------------+--------------------+-----------+---------+\n",
      "|  2004-05-09|2004-05-15| NORTE|ETANOL HIDRATADO|                      33|               1.81|                 1.5|                1.98|       2004|     2004|\n",
      "|  2004-05-09|2004-05-15| NORTE|ETANOL HIDRATADO|                      15|               1.79|                1.74|                1.85|       2004|     2004|\n",
      "|  2004-05-09|2004-05-15| NORTE|ETANOL HIDRATADO|                      53|               1.58|                1.28|                1.85|       2004|     2004|\n",
      "|  2004-05-09|2004-05-15| NORTE|ETANOL HIDRATADO|                     104|               1.91|                1.27|                 2.4|       2004|     2004|\n",
      "|  2004-05-09|2004-05-15| NORTE|ETANOL HIDRATADO|                      97|               1.55|                1.25|                1.99|       2004|     2004|\n",
      "+------------+----------+------+----------------+------------------------+-------------------+--------------------+--------------------+-----------+---------+\n",
      "only showing top 5 rows\n",
      "\n"
     ]
    }
   ],
   "source": [
    "spark.sql(\"SELECT * FROM view_price_gas WHERE Regiao = 'NORTE'\").show(5)"
   ]
  },
  {
   "cell_type": "code",
   "execution_count": 121,
   "metadata": {},
   "outputs": [],
   "source": [
    "df_norte = spark.sql(\"SELECT * FROM view_price_gas WHERE Regiao = 'NORTE'\")\n",
    "df_nordeste = spark.sql(\"SELECT * FROM view_price_gas WHERE Regiao = 'NORDESTE'\")\n",
    "df_sul= spark.sql(\"SELECT * FROM view_price_gas WHERE Regiao = 'SUL'\")\n",
    "df_sudeste = spark.sql(\"SELECT * FROM view_price_gas WHERE Regiao = 'SUDESTE'\")\n"
   ]
  },
  {
   "cell_type": "markdown",
   "metadata": {},
   "source": [
    "***SALVADANDO DADOS EM PARQUET E CSV***"
   ]
  },
  {
   "cell_type": "code",
   "execution_count": 126,
   "metadata": {},
   "outputs": [],
   "source": [
    "list_df = {\"brasil_price_gas\" : df_price_gas,\n",
    "            \"centro_oeste\" : df_centro_oeste,\n",
    "            \"norte\" : df_norte,\n",
    "            \"nordeste\":df_nordeste,\n",
    "            \"sul\": df_sul,\n",
    "            \"sudeste\" : df_sudeste \n",
    "          }\n"
   ]
  },
  {
   "cell_type": "code",
   "execution_count": 136,
   "metadata": {},
   "outputs": [
    {
     "name": "stderr",
     "output_type": "stream",
     "text": [
      "                                                                                \r"
     ]
    }
   ],
   "source": [
    "for index,df in list_df.items():\n",
    "    df.write.csv(f\"../data_processed/csv/df_{index}\",mode=\"overwrite\",header=True)"
   ]
  },
  {
   "cell_type": "code",
   "execution_count": 137,
   "metadata": {},
   "outputs": [],
   "source": [
    "for index,df in list_df.items():\n",
    "    df.write.parquet(f\"../data_processed/parquet/df_{index}\",mode=\"overwrite\")"
   ]
  }
 ],
 "metadata": {
  "kernelspec": {
   "display_name": "base",
   "language": "python",
   "name": "python3"
  },
  "language_info": {
   "codemirror_mode": {
    "name": "ipython",
    "version": 3
   },
   "file_extension": ".py",
   "mimetype": "text/x-python",
   "name": "python",
   "nbconvert_exporter": "python",
   "pygments_lexer": "ipython3",
   "version": "3.12.2"
  }
 },
 "nbformat": 4,
 "nbformat_minor": 2
}
